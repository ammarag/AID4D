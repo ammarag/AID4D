{
  "cells": [
    {
      "cell_type": "markdown",
      "metadata": {
        "colab_type": "text",
        "id": "view-in-github"
      },
      "source": [
        "<a href=\"https://colab.research.google.com/github/ammarag/AI4Data/blob/main/01_Data_Cleaning_Case_Study.ipynb\" target=\"_parent\"><img src=\"https://colab.research.google.com/assets/colab-badge.svg\" alt=\"Open In Colab\"/></a>"
      ]
    },
    {
      "cell_type": "code",
      "execution_count": 4,
      "metadata": {
        "id": "mi9DywQWXN-I"
      },
      "outputs": [],
      "source": [
        "import pandas as pd\n",
        "import matplotlib.pyplot as plt\n",
        "import numpy as np\n",
        "import seaborn as sns"
      ]
    },
    {
      "cell_type": "code",
      "execution_count": 5,
      "metadata": {
        "colab": {
          "base_uri": "https://localhost:8080/",
          "height": 424
        },
        "id": "F6n1GgC1Xycp",
        "outputId": "2cdae405-45b2-4a9f-e304-4de409910127"
      },
      "outputs": [
        {
          "data": {
            "text/html": [
              "<div>\n",
              "<style scoped>\n",
              "    .dataframe tbody tr th:only-of-type {\n",
              "        vertical-align: middle;\n",
              "    }\n",
              "\n",
              "    .dataframe tbody tr th {\n",
              "        vertical-align: top;\n",
              "    }\n",
              "\n",
              "    .dataframe thead th {\n",
              "        text-align: right;\n",
              "    }\n",
              "</style>\n",
              "<table border=\"1\" class=\"dataframe\">\n",
              "  <thead>\n",
              "    <tr style=\"text-align: right;\">\n",
              "      <th></th>\n",
              "      <th>age</th>\n",
              "      <th>sex</th>\n",
              "      <th>bmi</th>\n",
              "      <th>children</th>\n",
              "      <th>smoker</th>\n",
              "      <th>region</th>\n",
              "      <th>charges</th>\n",
              "    </tr>\n",
              "  </thead>\n",
              "  <tbody>\n",
              "    <tr>\n",
              "      <th>0</th>\n",
              "      <td>19.0</td>\n",
              "      <td>female</td>\n",
              "      <td>27.900</td>\n",
              "      <td>0.0</td>\n",
              "      <td>yes</td>\n",
              "      <td>southwest</td>\n",
              "      <td>16884.92400</td>\n",
              "    </tr>\n",
              "    <tr>\n",
              "      <th>1</th>\n",
              "      <td>18.0</td>\n",
              "      <td>male</td>\n",
              "      <td>33.770</td>\n",
              "      <td>1.0</td>\n",
              "      <td>no</td>\n",
              "      <td>southeast</td>\n",
              "      <td>1725.55230</td>\n",
              "    </tr>\n",
              "    <tr>\n",
              "      <th>2</th>\n",
              "      <td>28.0</td>\n",
              "      <td>male</td>\n",
              "      <td>33.000</td>\n",
              "      <td>3.0</td>\n",
              "      <td>no</td>\n",
              "      <td>southeast</td>\n",
              "      <td>4449.46200</td>\n",
              "    </tr>\n",
              "    <tr>\n",
              "      <th>3</th>\n",
              "      <td>33.0</td>\n",
              "      <td>male</td>\n",
              "      <td>22.705</td>\n",
              "      <td>0.0</td>\n",
              "      <td>no</td>\n",
              "      <td>northwest</td>\n",
              "      <td>21984.47061</td>\n",
              "    </tr>\n",
              "    <tr>\n",
              "      <th>4</th>\n",
              "      <td>32.0</td>\n",
              "      <td>male</td>\n",
              "      <td>28.880</td>\n",
              "      <td>0.0</td>\n",
              "      <td>no</td>\n",
              "      <td>northwest</td>\n",
              "      <td>3866.85520</td>\n",
              "    </tr>\n",
              "    <tr>\n",
              "      <th>...</th>\n",
              "      <td>...</td>\n",
              "      <td>...</td>\n",
              "      <td>...</td>\n",
              "      <td>...</td>\n",
              "      <td>...</td>\n",
              "      <td>...</td>\n",
              "      <td>...</td>\n",
              "    </tr>\n",
              "    <tr>\n",
              "      <th>1333</th>\n",
              "      <td>50.0</td>\n",
              "      <td>male</td>\n",
              "      <td>30.970</td>\n",
              "      <td>3.0</td>\n",
              "      <td>no</td>\n",
              "      <td>northwest</td>\n",
              "      <td>10600.54830</td>\n",
              "    </tr>\n",
              "    <tr>\n",
              "      <th>1334</th>\n",
              "      <td>18.0</td>\n",
              "      <td>female</td>\n",
              "      <td>31.920</td>\n",
              "      <td>0.0</td>\n",
              "      <td>no</td>\n",
              "      <td>northeast</td>\n",
              "      <td>2205.98080</td>\n",
              "    </tr>\n",
              "    <tr>\n",
              "      <th>1335</th>\n",
              "      <td>18.0</td>\n",
              "      <td>female</td>\n",
              "      <td>36.850</td>\n",
              "      <td>0.0</td>\n",
              "      <td>no</td>\n",
              "      <td>southeast</td>\n",
              "      <td>1629.83350</td>\n",
              "    </tr>\n",
              "    <tr>\n",
              "      <th>1336</th>\n",
              "      <td>21.0</td>\n",
              "      <td>female</td>\n",
              "      <td>25.800</td>\n",
              "      <td>0.0</td>\n",
              "      <td>no</td>\n",
              "      <td>southwest</td>\n",
              "      <td>2007.94500</td>\n",
              "    </tr>\n",
              "    <tr>\n",
              "      <th>1337</th>\n",
              "      <td>61.0</td>\n",
              "      <td>female</td>\n",
              "      <td>29.070</td>\n",
              "      <td>0.0</td>\n",
              "      <td>yes</td>\n",
              "      <td>northwest</td>\n",
              "      <td>29141.36030</td>\n",
              "    </tr>\n",
              "  </tbody>\n",
              "</table>\n",
              "<p>1338 rows × 7 columns</p>\n",
              "</div>"
            ],
            "text/plain": [
              "       age     sex     bmi  children smoker     region      charges\n",
              "0     19.0  female  27.900       0.0    yes  southwest  16884.92400\n",
              "1     18.0    male  33.770       1.0     no  southeast   1725.55230\n",
              "2     28.0    male  33.000       3.0     no  southeast   4449.46200\n",
              "3     33.0    male  22.705       0.0     no  northwest  21984.47061\n",
              "4     32.0    male  28.880       0.0     no  northwest   3866.85520\n",
              "...    ...     ...     ...       ...    ...        ...          ...\n",
              "1333  50.0    male  30.970       3.0     no  northwest  10600.54830\n",
              "1334  18.0  female  31.920       0.0     no  northeast   2205.98080\n",
              "1335  18.0  female  36.850       0.0     no  southeast   1629.83350\n",
              "1336  21.0  female  25.800       0.0     no  southwest   2007.94500\n",
              "1337  61.0  female  29.070       0.0    yes  northwest  29141.36030\n",
              "\n",
              "[1338 rows x 7 columns]"
            ]
          },
          "execution_count": 5,
          "metadata": {},
          "output_type": "execute_result"
        }
      ],
      "source": [
        "#read the csv file into dataframe\n",
        "df = pd.read_csv('https://raw.githubusercontent.com/mkjubran/AIData/main/EDA_insurance_modified.csv')\n",
        "df"
      ]
    },
    {
      "cell_type": "markdown",
      "metadata": {
        "id": "U3q4mIoeC04M"
      },
      "source": [
        "# Information & statistics"
      ]
    },
    {
      "cell_type": "code",
      "execution_count": 6,
      "metadata": {
        "colab": {
          "base_uri": "https://localhost:8080/"
        },
        "id": "q2nf9NMMMju5",
        "outputId": "c909ecad-9b17-4202-f645-e9c6dde9c1f9"
      },
      "outputs": [
        {
          "name": "stdout",
          "output_type": "stream",
          "text": [
            "<class 'pandas.core.frame.DataFrame'>\n",
            "RangeIndex: 1338 entries, 0 to 1337\n",
            "Data columns (total 7 columns):\n",
            " #   Column    Non-Null Count  Dtype  \n",
            "---  ------    --------------  -----  \n",
            " 0   age       1326 non-null   float64\n",
            " 1   sex       1319 non-null   object \n",
            " 2   bmi       1321 non-null   float64\n",
            " 3   children  1286 non-null   float64\n",
            " 4   smoker    1321 non-null   object \n",
            " 5   region    1338 non-null   object \n",
            " 6   charges   1338 non-null   float64\n",
            "dtypes: float64(4), object(3)\n",
            "memory usage: 73.3+ KB\n"
          ]
        }
      ],
      "source": [
        "#display df information\n",
        "df.info()"
      ]
    },
    {
      "cell_type": "code",
      "execution_count": 7,
      "metadata": {
        "colab": {
          "base_uri": "https://localhost:8080/",
          "height": 300
        },
        "id": "Hmq3YMUgigFJ",
        "outputId": "8d0fc0bd-2f3c-4611-aebb-006d0ec381e6"
      },
      "outputs": [
        {
          "data": {
            "text/html": [
              "<div>\n",
              "<style scoped>\n",
              "    .dataframe tbody tr th:only-of-type {\n",
              "        vertical-align: middle;\n",
              "    }\n",
              "\n",
              "    .dataframe tbody tr th {\n",
              "        vertical-align: top;\n",
              "    }\n",
              "\n",
              "    .dataframe thead th {\n",
              "        text-align: right;\n",
              "    }\n",
              "</style>\n",
              "<table border=\"1\" class=\"dataframe\">\n",
              "  <thead>\n",
              "    <tr style=\"text-align: right;\">\n",
              "      <th></th>\n",
              "      <th>age</th>\n",
              "      <th>bmi</th>\n",
              "      <th>children</th>\n",
              "      <th>charges</th>\n",
              "    </tr>\n",
              "  </thead>\n",
              "  <tbody>\n",
              "    <tr>\n",
              "      <th>count</th>\n",
              "      <td>1326.000000</td>\n",
              "      <td>1321.000000</td>\n",
              "      <td>1286.000000</td>\n",
              "      <td>1338.000000</td>\n",
              "    </tr>\n",
              "    <tr>\n",
              "      <th>mean</th>\n",
              "      <td>39.276018</td>\n",
              "      <td>31.074561</td>\n",
              "      <td>1.087869</td>\n",
              "      <td>13270.422265</td>\n",
              "    </tr>\n",
              "    <tr>\n",
              "      <th>std</th>\n",
              "      <td>14.723437</td>\n",
              "      <td>10.784446</td>\n",
              "      <td>1.200866</td>\n",
              "      <td>12110.011237</td>\n",
              "    </tr>\n",
              "    <tr>\n",
              "      <th>min</th>\n",
              "      <td>2.000000</td>\n",
              "      <td>0.000000</td>\n",
              "      <td>0.000000</td>\n",
              "      <td>1121.873900</td>\n",
              "    </tr>\n",
              "    <tr>\n",
              "      <th>25%</th>\n",
              "      <td>26.000000</td>\n",
              "      <td>26.200000</td>\n",
              "      <td>0.000000</td>\n",
              "      <td>4740.287150</td>\n",
              "    </tr>\n",
              "    <tr>\n",
              "      <th>50%</th>\n",
              "      <td>39.000000</td>\n",
              "      <td>30.360000</td>\n",
              "      <td>1.000000</td>\n",
              "      <td>9382.033000</td>\n",
              "    </tr>\n",
              "    <tr>\n",
              "      <th>75%</th>\n",
              "      <td>51.000000</td>\n",
              "      <td>34.700000</td>\n",
              "      <td>2.000000</td>\n",
              "      <td>16639.912515</td>\n",
              "    </tr>\n",
              "    <tr>\n",
              "      <th>max</th>\n",
              "      <td>120.000000</td>\n",
              "      <td>200.000000</td>\n",
              "      <td>5.000000</td>\n",
              "      <td>63770.428010</td>\n",
              "    </tr>\n",
              "  </tbody>\n",
              "</table>\n",
              "</div>"
            ],
            "text/plain": [
              "               age          bmi     children       charges\n",
              "count  1326.000000  1321.000000  1286.000000   1338.000000\n",
              "mean     39.276018    31.074561     1.087869  13270.422265\n",
              "std      14.723437    10.784446     1.200866  12110.011237\n",
              "min       2.000000     0.000000     0.000000   1121.873900\n",
              "25%      26.000000    26.200000     0.000000   4740.287150\n",
              "50%      39.000000    30.360000     1.000000   9382.033000\n",
              "75%      51.000000    34.700000     2.000000  16639.912515\n",
              "max     120.000000   200.000000     5.000000  63770.428010"
            ]
          },
          "execution_count": 7,
          "metadata": {},
          "output_type": "execute_result"
        }
      ],
      "source": [
        "#display the df statistics\n",
        "df.describe()"
      ]
    },
    {
      "cell_type": "code",
      "execution_count": 8,
      "metadata": {
        "colab": {
          "base_uri": "https://localhost:8080/"
        },
        "id": "YRnzkecJiOFZ",
        "outputId": "ba51f88c-da57-4ce1-c1d3-40faa9093e2a"
      },
      "outputs": [
        {
          "data": {
            "text/plain": [
              "age         12\n",
              "sex         19\n",
              "bmi         17\n",
              "children    52\n",
              "smoker      17\n",
              "region       0\n",
              "charges      0\n",
              "dtype: int64"
            ]
          },
          "execution_count": 8,
          "metadata": {},
          "output_type": "execute_result"
        }
      ],
      "source": [
        "#display count of nan in the df\n",
        "df.isnull().sum()"
      ]
    },
    {
      "cell_type": "code",
      "execution_count": 9,
      "metadata": {
        "colab": {
          "base_uri": "https://localhost:8080/",
          "height": 395
        },
        "id": "gNpb60KJN8Hr",
        "outputId": "6286a1a2-e589-4509-8450-3f5cbf4e39aa"
      },
      "outputs": [
        {
          "name": "stderr",
          "output_type": "stream",
          "text": [
            "C:\\Users\\razang\\AppData\\Local\\Temp\\ipykernel_13064\\3278617953.py:3: FutureWarning: The default value of numeric_only in DataFrame.corr is deprecated. In a future version, it will default to False. Select only valid columns or specify the value of numeric_only to silence this warning.\n",
            "  sns.heatmap(df.corr(), annot=True)\n"
          ]
        },
        {
          "data": {
            "text/plain": [
              "<AxesSubplot: >"
            ]
          },
          "execution_count": 9,
          "metadata": {},
          "output_type": "execute_result"
        },
        {
          "data": {
            "image/png": "[encoded data removed]",
            "text/plain": [
              "<Figure size 1000x600 with 2 Axes>"
            ]
          },
          "metadata": {},
          "output_type": "display_data"
        }
      ],
      "source": [
        "#check the corelation b/t features via correlation map\n",
        "fig, ax = plt.subplots(figsize=(10, 6))\n",
        "sns.heatmap(df.corr(), annot=True)"
      ]
    },
    {
      "cell_type": "markdown",
      "metadata": {
        "id": "gnuScBuzh011"
      },
      "source": [
        "# Handling Missing Values"
      ]
    },
    {
      "cell_type": "code",
      "execution_count": 10,
      "metadata": {
        "colab": {
          "base_uri": "https://localhost:8080/"
        },
        "id": "b7s0jFKedMqY",
        "outputId": "0f4e11bf-7720-479f-a957-ec72c2a8f120"
      },
      "outputs": [
        {
          "name": "stdout",
          "output_type": "stream",
          "text": [
            "(1338, 7)\n",
            "(1338, 7)\n"
          ]
        }
      ],
      "source": [
        "#remove all nan row\n",
        "print(df.shape)\n",
        "df.dropna(how='all', inplace=True)\n",
        "print(df.shape)"
      ]
    },
    {
      "cell_type": "markdown",
      "metadata": {
        "id": "vLEJrJJSh95p"
      },
      "source": [
        "## Age"
      ]
    },
    {
      "cell_type": "code",
      "execution_count": 11,
      "metadata": {
        "colab": {
          "base_uri": "https://localhost:8080/"
        },
        "id": "ZI3mtmQYZvZp",
        "outputId": "44aee11d-883e-439a-8974-576c2f835a99"
      },
      "outputs": [
        {
          "name": "stdout",
          "output_type": "stream",
          "text": [
            "nan counts:  12\n",
            "0.9 % is missing\n"
          ]
        }
      ],
      "source": [
        "#find null fields in all features\n",
        "print('nan counts: ', str(df['age'].isnull().sum()))\n",
        "#percent of nan\n",
        "print(str(round(100 * df['age'].isnull().sum()/len(df['age']),2)) + ' % is missing')"
      ]
    },
    {
      "cell_type": "code",
      "execution_count": 12,
      "metadata": {
        "colab": {
          "base_uri": "https://localhost:8080/"
        },
        "id": "CVJ66_xOeYh4",
        "outputId": "16915411-c9d2-404e-a639-25896399b7cd"
      },
      "outputs": [
        {
          "data": {
            "text/plain": [
              "count    1326.000000\n",
              "mean       39.276018\n",
              "std        14.723437\n",
              "min         2.000000\n",
              "25%        26.000000\n",
              "50%        39.000000\n",
              "75%        51.000000\n",
              "max       120.000000\n",
              "Name: age, dtype: float64"
            ]
          },
          "execution_count": 12,
          "metadata": {},
          "output_type": "execute_result"
        }
      ],
      "source": [
        "df['age'].describe()"
      ]
    },
    {
      "cell_type": "code",
      "execution_count": 13,
      "metadata": {
        "colab": {
          "base_uri": "https://localhost:8080/"
        },
        "id": "HOZf2yOXkMU8",
        "outputId": "dae52333-ac4e-46fc-d007-f176f4c0be8e"
      },
      "outputs": [
        {
          "name": "stdout",
          "output_type": "stream",
          "text": [
            "12\n",
            "0\n"
          ]
        }
      ],
      "source": [
        "#fill the missing age values with the average\n",
        "print(df['age'].isnull().sum())\n",
        "df['age'].fillna(value=df['age'].mean(), inplace=True)\n",
        "print(df['age'].isnull().sum())"
      ]
    },
    {
      "cell_type": "markdown",
      "metadata": {
        "id": "nv48O1yUlHjd"
      },
      "source": [
        "## Gender"
      ]
    },
    {
      "cell_type": "code",
      "execution_count": 14,
      "metadata": {
        "colab": {
          "base_uri": "https://localhost:8080/"
        },
        "id": "lfG0YYPooqc0",
        "outputId": "e7756763-3548-48d2-f839-97d873424f8c"
      },
      "outputs": [
        {
          "name": "stdout",
          "output_type": "stream",
          "text": [
            "nan counts:  19\n",
            "1.42 % is missing\n"
          ]
        }
      ],
      "source": [
        "#nan counts\n",
        "print('nan counts: ', str(df['sex'].isnull().sum()))\n",
        "#percent of nan\n",
        "print(str(round(100 * df['sex'].isnull().sum()/len(df['sex']),2)) + ' % is missing')"
      ]
    },
    {
      "cell_type": "code",
      "execution_count": 15,
      "metadata": {
        "colab": {
          "base_uri": "https://localhost:8080/"
        },
        "id": "3rdYY7va0qvc",
        "outputId": "2beb5cb5-5ae0-4545-f775-a922ac09a35f"
      },
      "outputs": [
        {
          "data": {
            "text/plain": [
              "male      667\n",
              "female    652\n",
              "Name: sex, dtype: int64"
            ]
          },
          "execution_count": 15,
          "metadata": {},
          "output_type": "execute_result"
        }
      ],
      "source": [
        "#values counts in gender column \n",
        "df['sex'].value_counts()"
      ]
    },
    {
      "cell_type": "code",
      "execution_count": 16,
      "metadata": {
        "colab": {
          "base_uri": "https://localhost:8080/"
        },
        "id": "mStMQ5d9_enH",
        "outputId": "3a21da0a-4fef-4d8c-a7b6-b165e37f653f"
      },
      "outputs": [
        {
          "name": "stdout",
          "output_type": "stream",
          "text": [
            "19\n",
            "0\n"
          ]
        }
      ],
      "source": [
        "#fill the messing value in gender column with the mode\n",
        "print(df['sex'].isnull().sum())\n",
        "df['sex'].fillna(value=str('male'), inplace=True)\n",
        "print(df['sex'].isnull().sum())"
      ]
    },
    {
      "cell_type": "markdown",
      "metadata": {
        "id": "XOYGMqzUCxUE"
      },
      "source": [
        "## BMI"
      ]
    },
    {
      "cell_type": "code",
      "execution_count": 17,
      "metadata": {
        "colab": {
          "base_uri": "https://localhost:8080/"
        },
        "id": "zgoFnn2uDWkA",
        "outputId": "340f7c0f-f95a-48d4-b4af-2c4bf5e65eaf"
      },
      "outputs": [
        {
          "name": "stdout",
          "output_type": "stream",
          "text": [
            "nan counts:  17\n",
            "nan percent:  1.27 %\n"
          ]
        }
      ],
      "source": [
        "print('nan counts: ', str(df['bmi'].isnull().sum()))\n",
        "print('nan percent: ', str(round(100*df['bmi'].isnull().sum()/len(df['bmi']),2)) + ' %')"
      ]
    },
    {
      "cell_type": "code",
      "execution_count": 18,
      "metadata": {
        "colab": {
          "base_uri": "https://localhost:8080/",
          "height": 395
        },
        "id": "5PEq1dgVDpQe",
        "outputId": "9e36371c-043c-4001-9aac-6e642715d9d2"
      },
      "outputs": [
        {
          "data": {
            "text/plain": [
              "<AxesSubplot: >"
            ]
          },
          "execution_count": 18,
          "metadata": {},
          "output_type": "execute_result"
        },
        {
          "data": {
            "image/png": "[encoded data removed]",
            "text/plain": [
              "<Figure size 1000x600 with 2 Axes>"
            ]
          },
          "metadata": {},
          "output_type": "display_data"
        }
      ],
      "source": [
        "#plot the correlation coofficient b/t charges and bmi\n",
        "fig, ax = plt.subplots(figsize=(10, 6))\n",
        "sns.heatmap(df[['bmi', 'charges']].corr(), annot=True)"
      ]
    },
    {
      "cell_type": "code",
      "execution_count": 19,
      "metadata": {
        "colab": {
          "base_uri": "https://localhost:8080/"
        },
        "id": "Bsty4zLN1Avk",
        "outputId": "1b3d4dc1-65f8-4ff4-d31c-778ac829989c"
      },
      "outputs": [
        {
          "name": "stdout",
          "output_type": "stream",
          "text": [
            "bmi mean: 31.07456093868282\n",
            "bmi median: 30.36\n"
          ]
        }
      ],
      "source": [
        "print('bmi mean: ' + str(df['bmi'].mean()))\n",
        "print('bmi median: ' + str(df['bmi'].median()))\n"
      ]
    },
    {
      "cell_type": "code",
      "execution_count": 20,
      "metadata": {
        "colab": {
          "base_uri": "https://localhost:8080/",
          "height": 282
        },
        "id": "pZ3DQ1tLCKUz",
        "outputId": "06d02014-3e5b-4598-efb9-2ff43d6224b9"
      },
      "outputs": [
        {
          "data": {
            "text/plain": [
              "<AxesSubplot: >"
            ]
          },
          "execution_count": 20,
          "metadata": {},
          "output_type": "execute_result"
        },
        {
          "data": {
            "image/png": "[encoded data removed]",
            "text/plain": [
              "<Figure size 640x480 with 1 Axes>"
            ]
          },
          "metadata": {},
          "output_type": "display_data"
        }
      ],
      "source": [
        "#plot bmi histogram\n",
        "df['bmi'].hist()"
      ]
    },
    {
      "cell_type": "code",
      "execution_count": 21,
      "metadata": {
        "colab": {
          "base_uri": "https://localhost:8080/"
        },
        "id": "U6A0m4yRCc3d",
        "outputId": "b83da55c-ceee-420e-e31b-bea49605e925"
      },
      "outputs": [
        {
          "name": "stdout",
          "output_type": "stream",
          "text": [
            "17\n",
            "0\n"
          ]
        }
      ],
      "source": [
        "#replace missing values with the mean\n",
        "print(df['bmi'].isnull().sum())\n",
        "df['bmi'].fillna(value=df['bmi'].mean(), inplace=True)\n",
        "print(df['bmi'].isnull().sum())"
      ]
    },
    {
      "cell_type": "markdown",
      "metadata": {
        "id": "GQ7e1Yl6gIpB"
      },
      "source": [
        "## children"
      ]
    },
    {
      "cell_type": "code",
      "execution_count": 22,
      "metadata": {
        "colab": {
          "base_uri": "https://localhost:8080/"
        },
        "id": "p7fPjO6RgOlr",
        "outputId": "5db1687e-50ee-4801-ca10-fe50dbd5c50f"
      },
      "outputs": [
        {
          "name": "stdout",
          "output_type": "stream",
          "text": [
            "52\n",
            "0\n"
          ]
        }
      ],
      "source": [
        "#fill the missing with the mean\n",
        "print(df['children'].isnull().sum())\n",
        "df['children'].fillna(value=round(df['children'].mean(),0), inplace=True)\n",
        "print(df['children'].isnull().sum())"
      ]
    },
    {
      "cell_type": "markdown",
      "metadata": {
        "id": "_ACZjWEBWBtg"
      },
      "source": [
        "## smoker"
      ]
    },
    {
      "cell_type": "code",
      "execution_count": 23,
      "metadata": {
        "colab": {
          "base_uri": "https://localhost:8080/"
        },
        "id": "lafWjx48WDzq",
        "outputId": "e41cd2d7-a7e6-4813-bee4-90517cf6162c"
      },
      "outputs": [
        {
          "name": "stdout",
          "output_type": "stream",
          "text": [
            "All nan: 17\n",
            "nan percent: 1.27 %\n"
          ]
        }
      ],
      "source": [
        "print('All nan: ' + str(df['smoker'].isnull().sum()))\n",
        "print('nan percent: ' + str(round(100*df['smoker'].isnull().sum()/len(df['smoker']),2)) + ' %')"
      ]
    },
    {
      "cell_type": "code",
      "execution_count": 24,
      "metadata": {
        "colab": {
          "base_uri": "https://localhost:8080/"
        },
        "id": "EN8cT00oWqC6",
        "outputId": "836ba6eb-e847-4bb4-afe3-dcc66c208566"
      },
      "outputs": [
        {
          "name": "stdout",
          "output_type": "stream",
          "text": [
            "17\n",
            "0\n"
          ]
        }
      ],
      "source": [
        "# fill the missing smoker feature with the mode\n",
        "print(df['smoker'].isnull().sum())\n",
        "df['smoker'].fillna(value=str(df['smoker'].mode()[0]), inplace=True)\n",
        "print(df['smoker'].isnull().sum())"
      ]
    },
    {
      "cell_type": "markdown",
      "metadata": {
        "id": "56bMqA_VxBdY"
      },
      "source": [
        "# Remove outliers"
      ]
    },
    {
      "cell_type": "code",
      "execution_count": 25,
      "metadata": {
        "colab": {
          "base_uri": "https://localhost:8080/",
          "height": 300
        },
        "id": "Kb7gwFxUDobq",
        "outputId": "b6164d46-48bb-421d-b181-59a08542fad2"
      },
      "outputs": [
        {
          "data": {
            "text/html": [
              "<div>\n",
              "<style scoped>\n",
              "    .dataframe tbody tr th:only-of-type {\n",
              "        vertical-align: middle;\n",
              "    }\n",
              "\n",
              "    .dataframe tbody tr th {\n",
              "        vertical-align: top;\n",
              "    }\n",
              "\n",
              "    .dataframe thead th {\n",
              "        text-align: right;\n",
              "    }\n",
              "</style>\n",
              "<table border=\"1\" class=\"dataframe\">\n",
              "  <thead>\n",
              "    <tr style=\"text-align: right;\">\n",
              "      <th></th>\n",
              "      <th>age</th>\n",
              "      <th>bmi</th>\n",
              "      <th>children</th>\n",
              "      <th>charges</th>\n",
              "    </tr>\n",
              "  </thead>\n",
              "  <tbody>\n",
              "    <tr>\n",
              "      <th>count</th>\n",
              "      <td>1338.000000</td>\n",
              "      <td>1338.000000</td>\n",
              "      <td>1338.000000</td>\n",
              "      <td>1338.000000</td>\n",
              "    </tr>\n",
              "    <tr>\n",
              "      <th>mean</th>\n",
              "      <td>39.276018</td>\n",
              "      <td>31.074561</td>\n",
              "      <td>1.084454</td>\n",
              "      <td>13270.422265</td>\n",
              "    </tr>\n",
              "    <tr>\n",
              "      <th>std</th>\n",
              "      <td>14.657215</td>\n",
              "      <td>10.715664</td>\n",
              "      <td>1.177404</td>\n",
              "      <td>12110.011237</td>\n",
              "    </tr>\n",
              "    <tr>\n",
              "      <th>min</th>\n",
              "      <td>2.000000</td>\n",
              "      <td>0.000000</td>\n",
              "      <td>0.000000</td>\n",
              "      <td>1121.873900</td>\n",
              "    </tr>\n",
              "    <tr>\n",
              "      <th>25%</th>\n",
              "      <td>26.250000</td>\n",
              "      <td>26.237500</td>\n",
              "      <td>0.000000</td>\n",
              "      <td>4740.287150</td>\n",
              "    </tr>\n",
              "    <tr>\n",
              "      <th>50%</th>\n",
              "      <td>39.138009</td>\n",
              "      <td>30.495000</td>\n",
              "      <td>1.000000</td>\n",
              "      <td>9382.033000</td>\n",
              "    </tr>\n",
              "    <tr>\n",
              "      <th>75%</th>\n",
              "      <td>51.000000</td>\n",
              "      <td>34.580000</td>\n",
              "      <td>2.000000</td>\n",
              "      <td>16639.912515</td>\n",
              "    </tr>\n",
              "    <tr>\n",
              "      <th>max</th>\n",
              "      <td>120.000000</td>\n",
              "      <td>200.000000</td>\n",
              "      <td>5.000000</td>\n",
              "      <td>63770.428010</td>\n",
              "    </tr>\n",
              "  </tbody>\n",
              "</table>\n",
              "</div>"
            ],
            "text/plain": [
              "               age          bmi     children       charges\n",
              "count  1338.000000  1338.000000  1338.000000   1338.000000\n",
              "mean     39.276018    31.074561     1.084454  13270.422265\n",
              "std      14.657215    10.715664     1.177404  12110.011237\n",
              "min       2.000000     0.000000     0.000000   1121.873900\n",
              "25%      26.250000    26.237500     0.000000   4740.287150\n",
              "50%      39.138009    30.495000     1.000000   9382.033000\n",
              "75%      51.000000    34.580000     2.000000  16639.912515\n",
              "max     120.000000   200.000000     5.000000  63770.428010"
            ]
          },
          "execution_count": 25,
          "metadata": {},
          "output_type": "execute_result"
        }
      ],
      "source": [
        "df.describe()"
      ]
    },
    {
      "cell_type": "markdown",
      "metadata": {
        "id": "D9Eo7ooixb3u"
      },
      "source": [
        "## Age"
      ]
    },
    {
      "cell_type": "code",
      "execution_count": 26,
      "metadata": {
        "colab": {
          "base_uri": "https://localhost:8080/",
          "height": 265
        },
        "id": "gCkB0OxgDwS-",
        "outputId": "d8214b26-87cb-40b2-ca2e-83ae69f3cf17"
      },
      "outputs": [
        {
          "data": {
            "image/png": "[encoded data removed]",
            "text/plain": [
              "<Figure size 640x480 with 1 Axes>"
            ]
          },
          "metadata": {},
          "output_type": "display_data"
        }
      ],
      "source": [
        "#plot boxplot for age\n",
        "plt.boxplot(df['age'])\n",
        "plt.show()"
      ]
    },
    {
      "cell_type": "code",
      "execution_count": 27,
      "metadata": {
        "colab": {
          "base_uri": "https://localhost:8080/"
        },
        "id": "FD5lmkocKhfz",
        "outputId": "f2397f9b-9181-498a-d36a-687b49cb5a6c"
      },
      "outputs": [
        {
          "name": "stdout",
          "output_type": "stream",
          "text": [
            "1338\n",
            "1337\n"
          ]
        }
      ],
      "source": [
        "#remove outliers last entry\n",
        "print(len(df['age']))\n",
        "df.drop(df[(df['age'] == df['age'].max())].index,inplace=True)\n",
        "print(len(df['age']))"
      ]
    },
    {
      "cell_type": "code",
      "execution_count": 28,
      "metadata": {
        "colab": {
          "base_uri": "https://localhost:8080/",
          "height": 265
        },
        "id": "RkkHqcUC631t",
        "outputId": "5685994c-411f-4a8a-99b8-8bc2bbf1bfbb"
      },
      "outputs": [
        {
          "data": {
            "image/png": "[encoded data removed]",
            "text/plain": [
              "<Figure size 640x480 with 1 Axes>"
            ]
          },
          "metadata": {},
          "output_type": "display_data"
        }
      ],
      "source": [
        "#plot boxplot for age after removing the outliers\n",
        "plt.boxplot(df['age'])\n",
        "plt.show()"
      ]
    },
    {
      "cell_type": "markdown",
      "metadata": {
        "id": "VjMzRHUtzR1r"
      },
      "source": [
        "## BMI"
      ]
    },
    {
      "cell_type": "code",
      "execution_count": 29,
      "metadata": {
        "colab": {
          "base_uri": "https://localhost:8080/",
          "height": 265
        },
        "id": "3A9JaCyYJ9VG",
        "outputId": "aa64608f-5e1a-4ea5-adcb-87448b8b5a51"
      },
      "outputs": [
        {
          "data": {
            "image/png": "[encoded data removed]",
            "text/plain": [
              "<Figure size 640x480 with 1 Axes>"
            ]
          },
          "metadata": {},
          "output_type": "display_data"
        }
      ],
      "source": [
        "#plot boxplot for bmi\n",
        "plt.boxplot(df['bmi'])\n",
        "plt.show()"
      ]
    },
    {
      "cell_type": "code",
      "execution_count": 30,
      "metadata": {
        "colab": {
          "base_uri": "https://localhost:8080/"
        },
        "id": "DTzBVI2d3LSp",
        "outputId": "d0c5b475-5086-40b4-a6b3-a87c0a259c6a"
      },
      "outputs": [
        {
          "name": "stdout",
          "output_type": "stream",
          "text": [
            "1337\n",
            "1203\n"
          ]
        }
      ],
      "source": [
        "#remove outliers below 5% and above 95%\n",
        "print(len(df['bmi']))\n",
        "df.drop(df[(df['bmi'] > df['bmi'].quantile(0.95)) | (df['bmi'] < df['bmi'].quantile(0.05))].index,inplace=True)\n",
        "print(len(df['bmi']))"
      ]
    },
    {
      "cell_type": "code",
      "execution_count": 31,
      "metadata": {
        "colab": {
          "base_uri": "https://localhost:8080/",
          "height": 265
        },
        "id": "JFMmhDa_8eaY",
        "outputId": "e4987160-926f-40e9-c122-053ab177f652"
      },
      "outputs": [
        {
          "data": {
            "image/png": "[encoded data removed]",
            "text/plain": [
              "<Figure size 640x480 with 1 Axes>"
            ]
          },
          "metadata": {},
          "output_type": "display_data"
        }
      ],
      "source": [
        "#plot boxplot for bmi after removing the outliers\n",
        "plt.boxplot(df['bmi'])\n",
        "plt.show()"
      ]
    },
    {
      "cell_type": "code",
      "execution_count": 32,
      "metadata": {
        "colab": {
          "base_uri": "https://localhost:8080/",
          "height": 265
        },
        "id": "xhKskmseKH6s",
        "outputId": "e8a734c4-d05d-4226-fb9a-11c5cd17dd79"
      },
      "outputs": [
        {
          "data": {
            "image/png": "[encoded data removed]",
            "text/plain": [
              "<Figure size 640x480 with 1 Axes>"
            ]
          },
          "metadata": {},
          "output_type": "display_data"
        }
      ],
      "source": [
        "#plot boxplot for children\n",
        "plt.boxplot(df['children'])\n",
        "plt.show()"
      ]
    },
    {
      "cell_type": "markdown",
      "metadata": {
        "id": "aIMikbCI3aUx"
      },
      "source": [
        "# Save Data"
      ]
    },
    {
      "cell_type": "code",
      "execution_count": 33,
      "metadata": {
        "id": "zeUP02uA3YoQ"
      },
      "outputs": [],
      "source": [
        "df.to_csv(\"./EDA_insurance_modified_cleaned.csv\", sep=\",\", index=False)"
      ]
    }
  ],
  "metadata": {
    "colab": {
      "include_colab_link": true,
      "provenance": []
    },
    "kernelspec": {
      "display_name": "Python 3",
      "language": "python",
      "name": "python3"
    },
    "language_info": {
      "codemirror_mode": {
        "name": "ipython",
        "version": 3
      },
      "file_extension": ".py",
      "mimetype": "text/x-python",
      "name": "python",
      "nbconvert_exporter": "python",
      "pygments_lexer": "ipython3",
      "version": "3.11.1"
    },
    "vscode": {
      "interpreter": {
        "hash": "872edf272bbd7253b5248c41d61cc85f0225210c16f8af39110a29d1a254017c"
      }
    }
  },
  "nbformat": 4,
  "nbformat_minor": 0
}
